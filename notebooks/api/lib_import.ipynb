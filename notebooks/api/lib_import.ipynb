{
 "cells": [
  {
   "cell_type": "markdown",
   "metadata": {},
   "source": [
    "Install Dependencies\n",
    "\n",
    "```bash\n",
    "pip install sentencepiece!=0.1.92 protobuf evaluate datasets transformers>=4.22.0 accelerate scikit-learn numpy\n",
    "```"
   ]
  },
  {
   "cell_type": "markdown",
   "metadata": {},
   "source": [
    "```bash\n",
    "python notebooks/api/run_clm.py \\\n",
    "  --model_name_or_path EleutherAI/gpt-j-6B \\\n",
    "  --dataset_name wikitext\\\n",
    "  --dataset_config_name wikitext-2-raw-v1 \\\n",
    "  --do_train \\\n",
    "  --do_eval \\\n",
    "  --tune \\\n",
    "  --output_dir saved_results\n",
    "```\n",
    "\n",
    "PTQ example with intel neural-compressor"
   ]
  },
  {
   "cell_type": "code",
   "execution_count": null,
   "metadata": {},
   "outputs": [],
   "source": [
    "from torchvision.models import resnet50\n",
    "\n",
    "# Load a pre-trained model\n",
    "model = resnet50(pretrained=True)\n",
    "\n",
    "# Create the wrapper\n",
    "quantized_model = PostTrainingQuantizationWrapper(model, \"config.yaml\")\n",
    "\n",
    "# Quantize the model and save it\n",
    "quantized_model.quantize(\"quantized_model\")"
   ]
  }
 ],
 "metadata": {
  "language_info": {
   "name": "python"
  },
  "orig_nbformat": 4
 },
 "nbformat": 4,
 "nbformat_minor": 2
}
