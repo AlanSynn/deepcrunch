{
 "cells": [
  {
   "cell_type": "code",
   "execution_count": 1,
   "metadata": {},
   "outputs": [],
   "source": [
    "# %load ../firstcell.py\n",
    "%load_ext autoreload\n",
    "%autoreload 2\n",
    "%matplotlib inline"
   ]
  },
  {
   "cell_type": "markdown",
   "metadata": {},
   "source": [
    "# Typical Inference from PyTorch\n",
    "\n",
    "This Jupyter Notebook uses the Huggingface Transformers library for natural language processing tasks. In this notebook, we demonstrate a typical inference workflow using the GPT-2 model from Huggingface Transformers.\n",
    "\n",
    "## Workflow\n",
    "\n",
    "1. Load the GPT-2 model from Huggingface Transformers.\n",
    "2. Tokenize the input text using the GPT-2 tokenizer.\n",
    "3. Pass the tokenized input to the GPT-2 model for inference.\n",
    "4. Decode the output from the GPT-2 model to obtain the generated text.\n",
    "\n",
    "## Code Example\n",
    "\n",
    "Here's an example of how to perform typical inference using the GPT-2 model from Huggingface Transformers:"
   ]
  },
  {
   "cell_type": "code",
   "execution_count": 2,
   "metadata": {},
   "outputs": [],
   "source": [
    "from transformers import GPT2Tokenizer, GPT2Model"
   ]
  },
  {
   "cell_type": "code",
   "execution_count": 3,
   "metadata": {},
   "outputs": [],
   "source": [
    "tokenizer = GPT2Tokenizer.from_pretrained(\"gpt2-large\")\n",
    "model = GPT2Model.from_pretrained(\"gpt2-large\")"
   ]
  },
  {
   "cell_type": "code",
   "execution_count": 4,
   "metadata": {},
   "outputs": [],
   "source": [
    "text = \"Testing a model for everyone.\"\n",
    "encoded_input = tokenizer(text, return_tensors=\"pt\")"
   ]
  },
  {
   "cell_type": "code",
   "execution_count": 9,
   "metadata": {},
   "outputs": [],
   "source": [
    "output = model(**encoded_input)"
   ]
  },
  {
   "cell_type": "code",
   "execution_count": 10,
   "metadata": {},
   "outputs": [
    {
     "data": {
      "text/plain": [
       "GPT2Model(\n",
       "  (wte): Embedding(50257, 1280)\n",
       "  (wpe): Embedding(1024, 1280)\n",
       "  (drop): Dropout(p=0.1, inplace=False)\n",
       "  (h): ModuleList(\n",
       "    (0-35): 36 x GPT2Block(\n",
       "      (ln_1): LayerNorm((1280,), eps=1e-05, elementwise_affine=True)\n",
       "      (attn): GPT2Attention(\n",
       "        (c_attn): Conv1D()\n",
       "        (c_proj): Conv1D()\n",
       "        (attn_dropout): Dropout(p=0.1, inplace=False)\n",
       "        (resid_dropout): Dropout(p=0.1, inplace=False)\n",
       "      )\n",
       "      (ln_2): LayerNorm((1280,), eps=1e-05, elementwise_affine=True)\n",
       "      (mlp): GPT2MLP(\n",
       "        (c_fc): Conv1D()\n",
       "        (c_proj): Conv1D()\n",
       "        (act): NewGELUActivation()\n",
       "        (dropout): Dropout(p=0.1, inplace=False)\n",
       "      )\n",
       "    )\n",
       "  )\n",
       "  (ln_f): LayerNorm((1280,), eps=1e-05, elementwise_affine=True)\n",
       ")"
      ]
     },
     "execution_count": 10,
     "metadata": {},
     "output_type": "execute_result"
    }
   ],
   "source": [
    "model"
   ]
  },
  {
   "cell_type": "markdown",
   "metadata": {},
   "source": [
    "# DeepCrunch Model Compression\n",
    "\n",
    "DeepCrunch is a model compression tool that can accelerate inference by compressing the model. In this notebook, we demonstrate how to use DeepCrunch for weight-only compression without tuning. Please note that activation compression needs tuning.\n",
    "\n",
    "## Workflow\n",
    "\n",
    "1. Load the GPT-2 model from Huggingface Transformers.\n",
    "2. Compress the model using DeepCrunch.\n",
    "3. Evaluate the compressed model.\n",
    "\n",
    "## Code Example\n",
    "\n",
    "Here's an example of how to use DeepCrunch for weight-only compression without tuning:\n",
    "\n",
    "```bash\n",
    "# if deepcrunch is not installed on your system and you cloned the repo\n",
    "import sys\n",
    "\n",
    "if 'deepcrunch' not in sys.modules:\n",
    "    sys.path.append('../..')\n",
    "```"
   ]
  },
  {
   "cell_type": "code",
   "execution_count": 6,
   "metadata": {},
   "outputs": [],
   "source": [
    "# if deepcrunch is installed on your system\n",
    "import deepcrunch"
   ]
  },
  {
   "cell_type": "markdown",
   "metadata": {},
   "source": [
    "You can specify the backend to use for quantization\n",
    "\n",
    "```python\n",
    "deepcrunch.config(framework='torch', mode='inference', backend='neural_compressor')\n",
    "```"
   ]
  },
  {
   "cell_type": "code",
   "execution_count": 18,
   "metadata": {},
   "outputs": [
    {
     "name": "stdout",
     "output_type": "stream",
     "text": [
      "Quantized model saved to quantized_gpt2_large.pt\n"
     ]
    }
   ],
   "source": [
    "deepcrunch.config(framework='torch', mode='inference')\n",
    "\n",
    "quantized_model = deepcrunch.quantize(model, type='dynamic', dtype='quint8', output_path='quantized_gpt2_large.pt')"
   ]
  },
  {
   "cell_type": "code",
   "execution_count": 19,
   "metadata": {},
   "outputs": [
    {
     "data": {
      "text/plain": [
       "GPT2Model(\n",
       "  (wte): QuantizedEmbedding(num_embeddings=50257, embedding_dim=1280, dtype=torch.quint8, qscheme=torch.per_channel_affine_float_qparams)\n",
       "  (wpe): QuantizedEmbedding(num_embeddings=1024, embedding_dim=1280, dtype=torch.quint8, qscheme=torch.per_channel_affine_float_qparams)\n",
       "  (drop): Dropout(p=0.1, inplace=False)\n",
       "  (h): ModuleList(\n",
       "    (0-35): 36 x GPT2Block(\n",
       "      (ln_1): LayerNorm((1280,), eps=1e-05, elementwise_affine=True)\n",
       "      (attn): GPT2Attention(\n",
       "        (c_attn): Conv1D()\n",
       "        (c_proj): Conv1D()\n",
       "        (attn_dropout): Dropout(p=0.1, inplace=False)\n",
       "        (resid_dropout): Dropout(p=0.1, inplace=False)\n",
       "      )\n",
       "      (ln_2): LayerNorm((1280,), eps=1e-05, elementwise_affine=True)\n",
       "      (mlp): GPT2MLP(\n",
       "        (c_fc): Conv1D()\n",
       "        (c_proj): Conv1D()\n",
       "        (act): NewGELUActivation()\n",
       "        (dropout): Dropout(p=0.1, inplace=False)\n",
       "      )\n",
       "    )\n",
       "  )\n",
       "  (ln_f): LayerNorm((1280,), eps=1e-05, elementwise_affine=True)\n",
       ")"
      ]
     },
     "execution_count": 19,
     "metadata": {},
     "output_type": "execute_result"
    }
   ],
   "source": [
    "quantized_model"
   ]
  },
  {
   "cell_type": "code",
   "execution_count": 15,
   "metadata": {},
   "outputs": [
    {
     "name": "stdout",
     "output_type": "stream",
     "text": [
      "Original Model Size\n",
      "Quantized Model Size\n"
     ]
    },
    {
     "data": {
      "text/plain": [
       "'2801.54 MB'"
      ]
     },
     "execution_count": 15,
     "metadata": {},
     "output_type": "execute_result"
    }
   ],
   "source": [
    "# Original model size\n",
    "print(\"Original Model Size\")\n",
    "deepcrunch.performance.size_in_mb('gpt2-large.pt', human_readable=True)\n",
    "\n",
    "# Quantized model size \n",
    "print(\"Quantized Model Size\")\n",
    "deepcrunch.performance.size_in_mb('quantized_gpt2_large.pt', human_readable=True)"
   ]
  }
 ],
 "metadata": {
  "kernelspec": {
   "display_name": "Python 3",
   "language": "python",
   "name": "python3"
  },
  "language_info": {
   "codemirror_mode": {
    "name": "ipython",
    "version": 3
   },
   "file_extension": ".py",
   "mimetype": "text/x-python",
   "name": "python",
   "nbconvert_exporter": "python",
   "pygments_lexer": "ipython3",
   "version": "3.10.12"
  },
  "orig_nbformat": 4
 },
 "nbformat": 4,
 "nbformat_minor": 2
}
