{
 "cells": [
  {
   "cell_type": "code",
   "execution_count": 1,
   "metadata": {},
   "outputs": [],
   "source": [
    "# %load ../first.cell\n",
    "%load_ext autoreload\n",
    "%autoreload 2"
   ]
  },
  {
   "cell_type": "code",
   "execution_count": null,
   "metadata": {},
   "outputs": [],
   "source": [
    "model_fp32 = \"./vgg16-12.onnx\"\n",
    "\n",
    "import torch\n",
    "import torchvision.datasets as datasets\n",
    "from torch.utils.data import Dataloader\n",
    "val_dataset = datasets.CIFAR10(\"./data\",\n",
    "                             train=False,\n",
    "                             download=True)\n",
    "val_dataloader = Dataloader(\n",
    "                     val_dataset,\n",
    "                     batch_size=32, shuffle=False,\n",
    "                     ping_memory=True)"
   ]
  },
  {
   "cell_type": "code",
   "execution_count": null,
   "metadata": {},
   "outputs": [],
   "source": [
    "import deepcrunch"
   ]
  },
  {
   "cell_type": "code",
   "execution_count": null,
   "metadata": {},
   "outputs": [],
   "source": [
    "quantized_model = deepcrunch.quantize(model_fp32, output_path=\"./vgg16_quantize_nc.onnx\", val_dataset=val_dataset)"
   ]
  },
  {
   "cell_type": "code",
   "execution_count": null,
   "metadata": {},
   "outputs": [],
   "source": [
    "# If calibration or accuracy aware needed\n",
    "eval_func = # Some function that takes in a model and returns accuracy or metrics. Usually a validation function.\n",
    "\n",
    "quantized_model = deepcrunch.quantize(model_fp32, output_path=\"./vgg16_quantize_nc.onnx\", val_dataset=val_dataset, eval_func=eval_func)"
   ]
  },
  {
   "cell_type": "code",
   "execution_count": null,
   "metadata": {},
   "outputs": [
    {
     "name": "stdout",
     "output_type": "stream",
     "text": [
      "Original model size: 527.80 MB\n",
      "Quantized model size: 132.01 MB\n"
     ]
    }
   ],
   "source": [
    "original_model_size = deepcrunch.performance.size_in_mb(\n",
    "    \"./vgg16-12.onnx\", human_readable=True\n",
    ")\n",
    "\n",
    "quantized_model_size = deepcrunch.performance.size_in_mb(\n",
    "    \"./vgg16_quantize_nc.onnx\", human_readable=True\n",
    ")\n",
    "\n",
    "print(f\"Original model size: {original_model_size}\")\n",
    "print(f\"Quantized model size: {quantized_model_size}\")"
   ]
  },
  {
   "cell_type": "code",
   "execution_count": null,
   "metadata": {},
   "outputs": [
    {
     "name": "stdout",
     "output_type": "stream",
     "text": [
      "1.11.0\n",
      "GPU\n"
     ]
    }
   ],
   "source": [
    "import torch\n",
    "import onnx\n",
    "import onnxruntime as ort\n",
    "\n",
    "print(torch.__version__)\n",
    "\n",
    "device_id = 0\n",
    "print(ort.get_device()) "
   ]
  },
  {
   "cell_type": "code",
   "execution_count": null,
   "metadata": {},
   "outputs": [],
   "source": [
    "providers = [(\n",
    "    \"CUDAExecutionProvider\", \n",
    "    { \n",
    "        \"device_id\": device_id,\n",
    "        \"cudnn_conv_algo_search\": \"HEURISTIC\", \n",
    "        \"do_copy_in_default_stream\": True\n",
    "    }\n",
    ")]\n",
    "\n",
    "opts = ort.SessionOptions()\n",
    "opts.graph_optimization_level = ort.GraphOptimizationLevel.ORT_ENABLE_ALL\n",
    "opts.enable_cpu_mem_arena = False\n",
    "opts.enable_mem_pattern = False\n",
    "opts.enable_mem_reuse = False\n",
    "\n",
    "opts.intra_op_num_threads = 1 \n",
    "opts.inter_op_num_threads = 1\n",
    "\n",
    "sess = ort.InferenceSession(\n",
    "    \"vgg16_quantize_nc.onnx\", \n",
    "    sess_options=opts, \n",
    "    providers=providers)"
   ]
  },
  {
   "cell_type": "code",
   "execution_count": null,
   "metadata": {},
   "outputs": [
    {
     "name": "stderr",
     "output_type": "stream",
     "text": [
      "2023-08-02 11:56:30.592380154 [E:onnxruntime:Default, env.cc:251 ThreadMain] pthread_setaffinity_np failed for thread: 87018, index: 18, mask: {19, }, error code: 22 error msg: Invalid argument. Specify the number of threads explicitly so the affinity is not set.\n",
      "2023-08-02 11:56:30.575542837 [E:onnxruntime:Default, env.cc:251 ThreadMain] pthread_setaffinity_np failed for thread: 87016, index: 16, mask: {17, }, error code: 22 error msg: Invalid argument. Specify the number of threads explicitly so the affinity is not set.\n",
      "2023-08-02 11:56:30.575538211 [E:onnxruntime:Default, env.cc:251 ThreadMain] pthread_setaffinity_np failed for thread: 87011, index: 11, mask: {12, }, error code: 22 error msg: Invalid argument. Specify the number of threads explicitly so the affinity is not set.\n",
      "2023-08-02 11:56:30.588366443 [E:onnxruntime:Default, env.cc:251 ThreadMain] pthread_setaffinity_np failed for thread: 87014, index: 14, mask: {15, }, error code: 22 error msg: Invalid argument. Specify the number of threads explicitly so the affinity is not set.\n",
      "2023-08-02 11:56:30.575547026 [E:onnxruntime:Default, env.cc:251 ThreadMain] pthread_setaffinity_np failed for thread: 87013, index: 13, mask: {14, }, error code: 22 error msg: Invalid argument. Specify the number of threads explicitly so the affinity is not set.\n",
      "2023-08-02 11:56:30.575559575 [E:onnxruntime:Default, env.cc:251 ThreadMain] pthread_setaffinity_np failed for thread: 87017, index: 17, mask: {18, }, error code: 22 error msg: Invalid argument. Specify the number of threads explicitly so the affinity is not set.\n",
      "2023-08-02 11:56:30.610432467 [E:onnxruntime:Default, env.cc:251 ThreadMain] pthread_setaffinity_np failed for thread: 87020, index: 20, mask: {21, }, error code: 22 error msg: Invalid argument. Specify the number of threads explicitly so the affinity is not set.\n",
      "2023-08-02 11:56:30.584354284 [E:onnxruntime:Default, env.cc:251 ThreadMain] pthread_setaffinity_np failed for thread: 87012, index: 12, mask: {13, }, error code: 22 error msg: Invalid argument. Specify the number of threads explicitly so the affinity is not set.\n",
      "2023-08-02 11:56:30.588394576 [E:onnxruntime:Default, env.cc:251 ThreadMain] pthread_setaffinity_np failed for thread: 87019, index: 19, mask: {20, }, error code: 22 error msg: Invalid argument. Specify the number of threads explicitly so the affinity is not set.\n",
      "2023-08-02 11:56:30.588360737 [E:onnxruntime:Default, env.cc:251 ThreadMain] pthread_setaffinity_np failed for thread: 87015, index: 15, mask: {16, }, error code: 22 error msg: Invalid argument. Specify the number of threads explicitly so the affinity is not set.\n",
      "2023-08-02 11:56:30.623387856 [E:onnxruntime:Default, env.cc:251 ThreadMain] pthread_setaffinity_np failed for thread: 87021, index: 21, mask: {22, }, error code: 22 error msg: Invalid argument. Specify the number of threads explicitly so the affinity is not set.\n",
      "2023-08-02 11:56:30.623495098 [E:onnxruntime:Default, env.cc:251 ThreadMain] pthread_setaffinity_np failed for thread: 87022, index: 22, mask: {23, }, error code: 22 error msg: Invalid argument. Specify the number of threads explicitly so the affinity is not set.\n",
      " 22%|██▏       | 22/100 [00:00<00:00, 210.63it/s, time=3.04ms]"
     ]
    },
    {
     "name": "stderr",
     "output_type": "stream",
     "text": [
      "100%|██████████| 100/100 [00:00<00:00, 209.40it/s, time=3.22ms]\n",
      "2023-08-02 11:56:32.091381691 [E:onnxruntime:Default, env.cc:251 ThreadMain] pthread_setaffinity_np failed for thread: 87036, index: 12, mask: {13, }, error code: 22 error msg: Invalid argument. Specify the number of threads explicitly so the affinity is not set.\n"
     ]
    },
    {
     "name": "stdout",
     "output_type": "stream",
     "text": [
      "VGG16-12 Average Time: 4.805\n"
     ]
    },
    {
     "name": "stderr",
     "output_type": "stream",
     "text": [
      "2023-08-02 11:56:32.091381851 [E:onnxruntime:Default, env.cc:251 ThreadMain] pthread_setaffinity_np failed for thread: 87035, index: 11, mask: {12, }, error code: 22 error msg: Invalid argument. Specify the number of threads explicitly so the affinity is not set.\n",
      "2023-08-02 11:56:32.091389060 [E:onnxruntime:Default, env.cc:251 ThreadMain] pthread_setaffinity_np failed for thread: 87037, index: 13, mask: {14, }, error code: 22 error msg: Invalid argument. Specify the number of threads explicitly so the affinity is not set.\n",
      "2023-08-02 11:56:32.101366702 [E:onnxruntime:Default, env.cc:251 ThreadMain] pthread_setaffinity_np failed for thread: 87042, index: 18, mask: {19, }, error code: 22 error msg: Invalid argument. Specify the number of threads explicitly so the affinity is not set.\n",
      "2023-08-02 11:56:32.103362427 [E:onnxruntime:Default, env.cc:251 ThreadMain] pthread_setaffinity_np failed for thread: 87041, index: 17, mask: {18, }, error code: 22 error msg: Invalid argument. Specify the number of threads explicitly so the affinity is not set.\n",
      "2023-08-02 11:56:32.103916581 [E:onnxruntime:Default, env.cc:251 ThreadMain] pthread_setaffinity_np failed for thread: 87038, index: 14, mask: {15, }, error code: 22 error msg: Invalid argument. Specify the number of threads explicitly so the affinity is not set.\n",
      "2023-08-02 11:56:32.103939312 [E:onnxruntime:Default, env.cc:251 ThreadMain] pthread_setaffinity_np failed for thread: 87044, index: 20, mask: {21, }, error code: 22 error msg: Invalid argument. Specify the number of threads explicitly so the affinity is not set.\n",
      "2023-08-02 11:56:32.103977226 [E:onnxruntime:Default, env.cc:251 ThreadMain] pthread_setaffinity_np failed for thread: 87040, index: 16, mask: {17, }, error code: 22 error msg: Invalid argument. Specify the number of threads explicitly so the affinity is not set.\n",
      "2023-08-02 11:56:32.104341028 [E:onnxruntime:Default, env.cc:251 ThreadMain] pthread_setaffinity_np failed for thread: 87039, index: 15, mask: {16, }, error code: 22 error msg: Invalid argument. Specify the number of threads explicitly so the affinity is not set.\n",
      "2023-08-02 11:56:32.104359470 [E:onnxruntime:Default, env.cc:251 ThreadMain] pthread_setaffinity_np failed for thread: 87043, index: 19, mask: {20, }, error code: 22 error msg: Invalid argument. Specify the number of threads explicitly so the affinity is not set.\n",
      "2023-08-02 11:56:32.105960749 [E:onnxruntime:Default, env.cc:251 ThreadMain] pthread_setaffinity_np failed for thread: 87045, index: 21, mask: {22, }, error code: 22 error msg: Invalid argument. Specify the number of threads explicitly so the affinity is not set.\n",
      "2023-08-02 11:56:32.107363540 [E:onnxruntime:Default, env.cc:251 ThreadMain] pthread_setaffinity_np failed for thread: 87046, index: 22, mask: {23, }, error code: 22 error msg: Invalid argument. Specify the number of threads explicitly so the affinity is not set.\n"
     ]
    },
    {
     "ename": "InvalidArgument",
     "evalue": "[ONNXRuntimeError] : 2 : INVALID_ARGUMENT : Unexpected input data type. Actual: (tensor(float)) , expected: (tensor(float16))",
     "output_type": "error",
     "traceback": [
      "\u001b[0;31m---------------------------------------------------------------------------\u001b[0m",
      "\u001b[0;31mInvalidArgument\u001b[0m                           Traceback (most recent call last)",
      "Cell \u001b[0;32mIn[14], line 4\u001b[0m\n\u001b[1;32m      1\u001b[0m \u001b[39mfrom\u001b[39;00m \u001b[39mdeepcrunch\u001b[39;00m\u001b[39m.\u001b[39;00m\u001b[39mperformance\u001b[39;00m\u001b[39m.\u001b[39;00m\u001b[39mmodel_latency\u001b[39;00m \u001b[39mimport\u001b[39;00m do_inference\n\u001b[1;32m      3\u001b[0m do_inference(\u001b[39m\"\u001b[39m\u001b[39mvgg16-12.onnx\u001b[39m\u001b[39m\"\u001b[39m, \u001b[39m\"\u001b[39m\u001b[39mVGG16-12\u001b[39m\u001b[39m\"\u001b[39m, input_dim\u001b[39m=\u001b[39m(\u001b[39m1\u001b[39m, \u001b[39m3\u001b[39m, \u001b[39m224\u001b[39m, \u001b[39m224\u001b[39m), providers\u001b[39m=\u001b[39mproviders)\n\u001b[0;32m----> 4\u001b[0m do_inference(\u001b[39m\"\u001b[39;49m\u001b[39mvgg16_float16.onnx\u001b[39;49m\u001b[39m\"\u001b[39;49m, \u001b[39m\"\u001b[39;49m\u001b[39mFloat16\u001b[39;49m\u001b[39m\"\u001b[39;49m, input_dim\u001b[39m=\u001b[39;49m(\u001b[39m1\u001b[39;49m, \u001b[39m3\u001b[39;49m, \u001b[39m224\u001b[39;49m, \u001b[39m224\u001b[39;49m), providers\u001b[39m=\u001b[39;49mproviders)\n",
      "File \u001b[0;32m/storage/coda1/p-vsarkar9/1/dsynn6/projects/deepcrunch/deepcrunch/performance/model_latency.py:19\u001b[0m, in \u001b[0;36mdo_inference\u001b[0;34m(model_path, output_string, input_dim, providers)\u001b[0m\n\u001b[1;32m     17\u001b[0m \u001b[39mfor\u001b[39;00m i \u001b[39min\u001b[39;00m \u001b[39mrange\u001b[39m(warm_up_count):\n\u001b[1;32m     18\u001b[0m     x \u001b[39m=\u001b[39m np\u001b[39m.\u001b[39mrandom\u001b[39m.\u001b[39mrand(\u001b[39m*\u001b[39minput_dim)\u001b[39m.\u001b[39mastype(\u001b[39m\"\u001b[39m\u001b[39mfloat32\u001b[39m\u001b[39m\"\u001b[39m)\n\u001b[0;32m---> 19\u001b[0m     origin_ort_session\u001b[39m.\u001b[39;49mrun(\u001b[39mNone\u001b[39;49;00m, {origin_ort_session\u001b[39m.\u001b[39;49m_inputs_meta[\u001b[39m0\u001b[39;49m]\u001b[39m.\u001b[39;49mname: x})\n\u001b[1;32m     21\u001b[0m count \u001b[39m=\u001b[39m \u001b[39m100\u001b[39m\n\u001b[1;32m     22\u001b[0m start_total \u001b[39m=\u001b[39m time\u001b[39m.\u001b[39mtime()\n",
      "File \u001b[0;32m~/projects/deepcrunch/env/lib/python3.10/site-packages/onnxruntime/capi/onnxruntime_inference_collection.py:217\u001b[0m, in \u001b[0;36mSession.run\u001b[0;34m(self, output_names, input_feed, run_options)\u001b[0m\n\u001b[1;32m    215\u001b[0m     output_names \u001b[39m=\u001b[39m [output\u001b[39m.\u001b[39mname \u001b[39mfor\u001b[39;00m output \u001b[39min\u001b[39;00m \u001b[39mself\u001b[39m\u001b[39m.\u001b[39m_outputs_meta]\n\u001b[1;32m    216\u001b[0m \u001b[39mtry\u001b[39;00m:\n\u001b[0;32m--> 217\u001b[0m     \u001b[39mreturn\u001b[39;00m \u001b[39mself\u001b[39;49m\u001b[39m.\u001b[39;49m_sess\u001b[39m.\u001b[39;49mrun(output_names, input_feed, run_options)\n\u001b[1;32m    218\u001b[0m \u001b[39mexcept\u001b[39;00m C\u001b[39m.\u001b[39mEPFail \u001b[39mas\u001b[39;00m err:\n\u001b[1;32m    219\u001b[0m     \u001b[39mif\u001b[39;00m \u001b[39mself\u001b[39m\u001b[39m.\u001b[39m_enable_fallback:\n",
      "\u001b[0;31mInvalidArgument\u001b[0m: [ONNXRuntimeError] : 2 : INVALID_ARGUMENT : Unexpected input data type. Actual: (tensor(float)) , expected: (tensor(float16))"
     ]
    }
   ],
   "source": [
    "from deepcrunch.performance.model_latency import do_inference\n",
    "\n",
    "do_inference(\"vgg16-12.onnx\", \"VGG16-12\", input_dim=(1, 3, 224, 224), providers=providers)\n",
    "do_inference(\"vgg16_float16.onnx\", \"Float16\", input_dim=(1, 3, 224, 224), providers=providers)"
   ]
  }
 ],
 "metadata": {
  "kernelspec": {
   "display_name": "Python 3",
   "language": "python",
   "name": "python3"
  },
  "language_info": {
   "codemirror_mode": {
    "name": "ipython",
    "version": 3
   },
   "file_extension": ".py",
   "mimetype": "text/x-python",
   "name": "python",
   "nbconvert_exporter": "python",
   "pygments_lexer": "ipython3",
   "version": "3.10.12"
  },
  "orig_nbformat": 4
 },
 "nbformat": 4,
 "nbformat_minor": 2
}
