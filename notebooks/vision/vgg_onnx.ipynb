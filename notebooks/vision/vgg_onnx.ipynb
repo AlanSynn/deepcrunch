{
 "cells": [
  {
   "cell_type": "code",
   "execution_count": null,
   "metadata": {},
   "outputs": [],
   "source": [
    "import onnx\n",
    "from onnxruntime.quantization import quantize_dynamic, QuantType"
   ]
  },
  {
   "cell_type": "code",
   "execution_count": null,
   "metadata": {},
   "outputs": [],
   "source": [
    "model_fp32 = './vgg16-12.onnx'\n",
    "model_quant = './vgg16-12.quant.onnx'\n",
    "quantized_model = quantize_dynamic(model_fp32, model_quant)\n"
   ]
  }
 ],
 "metadata": {
  "language_info": {
   "name": "python"
  },
  "orig_nbformat": 4
 },
 "nbformat": 4,
 "nbformat_minor": 2
}
