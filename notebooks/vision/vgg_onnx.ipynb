{
 "cells": [
  {
   "cell_type": "code",
   "execution_count": 1,
   "metadata": {},
   "outputs": [],
   "source": [
    "%load ../first.cell"
   ]
  },
  {
   "cell_type": "code",
   "execution_count": 2,
   "metadata": {},
   "outputs": [],
   "source": [
    "model_fp32 = \"./vgg16-12.onnx\""
   ]
  },
  {
   "cell_type": "code",
   "execution_count": 3,
   "metadata": {},
   "outputs": [],
   "source": [
    "import deepcrunch\n",
    "\n",
    "deepcrunch.config(framework=\"onnx\", mode=\"inference\", backend=\"onnx\")"
   ]
  },
  {
   "cell_type": "code",
   "execution_count": 7,
   "metadata": {},
   "outputs": [
    {
     "name": "stderr",
     "output_type": "stream",
     "text": [
      "2023-07-31 01:02:28.455318417 [E:onnxruntime:Default, env.cc:251 ThreadMain] pthread_setaffinity_np failed for thread: 52463, index: 5, mask: {6, }, error code: 22 error msg: Invalid argument. Specify the number of threads explicitly so the affinity is not set.\n",
      "2023-07-31 01:02:28.455304416 [E:onnxruntime:Default, env.cc:251 ThreadMain] pthread_setaffinity_np failed for thread: 52464, index: 6, mask: {7, }, error code: 22 error msg: Invalid argument. Specify the number of threads explicitly so the affinity is not set.\n",
      "2023-07-31 01:02:28.455304446 [E:onnxruntime:Default, env.cc:251 ThreadMain] pthread_setaffinity_np failed for thread: 52462, index: 4, mask: {5, }, error code: 22 error msg: Invalid argument. Specify the number of threads explicitly so the affinity is not set.\n",
      "2023-07-31 01:02:28.456090101 [E:onnxruntime:Default, env.cc:251 ThreadMain] pthread_setaffinity_np failed for thread: 52470, index: 12, mask: {13, }, error code: 22 error msg: Invalid argument. Specify the number of threads explicitly so the affinity is not set.\n",
      "2023-07-31 01:02:28.455709144 [E:onnxruntime:Default, env.cc:251 ThreadMain] pthread_setaffinity_np failed for thread: 52469, index: 11, mask: {12, }, error code: 22 error msg: Invalid argument. Specify the number of threads explicitly so the affinity is not set.\n",
      "2023-07-31 01:02:28.456137423 [E:onnxruntime:Default, env.cc:251 ThreadMain] pthread_setaffinity_np failed for thread: 52471, index: 13, mask: {14, }, error code: 22 error msg: Invalid argument. Specify the number of threads explicitly so the affinity is not set.\n",
      "2023-07-31 01:02:28.455313927 [E:onnxruntime:Default, env.cc:251 ThreadMain] pthread_setaffinity_np failed for thread: 52461, index: 3, mask: {4, }, error code: 22 error msg: Invalid argument. Specify the number of threads explicitly so the affinity is not set.\n",
      "2023-07-31 01:02:28.456172215 [E:onnxruntime:Default, env.cc:251 ThreadMain] pthread_setaffinity_np failed for thread: 52472, index: 14, mask: {15, }, error code: 22 error msg: Invalid argument. Specify the number of threads explicitly so the affinity is not set.\n",
      "2023-07-31 01:02:28.456395905 [E:onnxruntime:Default, env.cc:251 ThreadMain] pthread_setaffinity_np failed for thread: 52477, index: 19, mask: {20, }, error code: 22 error msg: Invalid argument. Specify the number of threads explicitly so the affinity is not set.\n",
      "2023-07-31 01:02:28.456517800 [E:onnxruntime:Default, env.cc:251 ThreadMain] pthread_setaffinity_np failed for thread: 52478, index: 20, mask: {21, }, error code: 22 error msg: Invalid argument. Specify the number of threads explicitly so the affinity is not set.\n",
      "2023-07-31 01:02:28.456533461 [E:onnxruntime:Default, env.cc:251 ThreadMain] pthread_setaffinity_np failed for thread: 52479, index: 21, mask: {22, }, error code: 22 error msg: Invalid argument. Specify the number of threads explicitly so the affinity is not set.\n",
      "2023-07-31 01:02:28.456756651 [E:onnxruntime:Default, env.cc:251 ThreadMain] pthread_setaffinity_np failed for thread: 52485, index: 27, mask: {28, }, error code: 22 error msg: Invalid argument. Specify the number of threads explicitly so the affinity is not set.\n",
      "2023-07-31 01:02:28.456777002 [E:onnxruntime:Default, env.cc:251 ThreadMain] pthread_setaffinity_np failed for thread: 52486, index: 28, mask: {29, }, error code: 22 error msg: Invalid argument. Specify the number of threads explicitly so the affinity is not set.\n",
      "2023-07-31 01:02:28.456774992 [E:onnxruntime:Default, env.cc:251 ThreadMain] pthread_setaffinity_np failed for thread: 52487, index: 29, mask: {30, }, error code: 22 error msg: Invalid argument. Specify the number of threads explicitly so the affinity is not set.\n",
      "2023-07-31 01:02:28.456907288 [E:onnxruntime:Default, env.cc:251 ThreadMain] pthread_setaffinity_np failed for thread: 52488, index: 30, mask: {31, }, error code: 22 error msg: Invalid argument. Specify the number of threads explicitly so the affinity is not set.\n",
      "2023-07-31 01:02:28.467810983 [E:onnxruntime:Default, env.cc:251 ThreadMain] pthread_setaffinity_np failed for thread: 52509, index: 51, mask: {52, }, error code: 22 error msg: Invalid argument. Specify the number of threads explicitly so the affinity is not set.\n",
      "2023-07-31 01:02:28.467816463 [E:onnxruntime:Default, env.cc:251 ThreadMain] pthread_setaffinity_np failed for thread: 52510, index: 52, mask: {53, }, error code: 22 error msg: Invalid argument. Specify the number of threads explicitly so the affinity is not set.\n",
      "2023-07-31 01:02:28.467822683 [E:onnxruntime:Default, env.cc:251 ThreadMain] pthread_setaffinity_np failed for thread: 52511, index: 53, mask: {54, }, error code: 22 error msg: Invalid argument. Specify the number of threads explicitly so the affinity is not set.\n",
      "2023-07-31 01:02:28.468812887 [E:onnxruntime:Default, env.cc:251 ThreadMain] pthread_setaffinity_np failed for thread: 52480, index: 22, mask: {23, }, error code: 22 error msg: Invalid argument. Specify the number of threads explicitly so the affinity is not set.\n",
      "2023-07-31 01:02:28.468835928 [E:onnxruntime:Default, env.cc:251 ThreadMain] pthread_setaffinity_np failed for thread: 52517, index: 59, mask: {60, }, error code: 22 error msg: Invalid argument. Specify the number of threads explicitly so the affinity is not set.\n",
      "2023-07-31 01:02:28.468834728 [E:onnxruntime:Default, env.cc:251 ThreadMain] pthread_setaffinity_np failed for thread: 52518, index: 60, mask: {61, }, error code: 22 error msg: Invalid argument. Specify the number of threads explicitly so the affinity is not set.\n",
      "2023-07-31 01:02:28.469815882 [E:onnxruntime:Default, env.cc:251 ThreadMain] pthread_setaffinity_np failed for thread: 52501, index: 43, mask: {44, }, error code: 22 error msg: Invalid argument. Specify the number of threads explicitly so the affinity is not set.\n",
      "2023-07-31 01:02:28.472903270 [E:onnxruntime:Default, env.cc:251 ThreadMain] pthread_setaffinity_np failed for thread: 52520, index: 62, mask: {63, }, error code: 22 error msg: Invalid argument. Specify the number of threads explicitly so the affinity is not set.\n",
      "2023-07-31 01:02:28.476652196 [E:onnxruntime:Default, env.cc:251 ThreadMain] pthread_setaffinity_np failed for thread: 52494, index: 36, mask: {37, }, error code: 22 error msg: Invalid argument. Specify the number of threads explicitly so the affinity is not set.\n",
      "2023-07-31 01:02:28.467818043 [E:onnxruntime:Default, env.cc:251 ThreadMain] pthread_setaffinity_np failed for thread: 52512, index: 54, mask: {55, }, error code: 22 error msg: Invalid argument. Specify the number of threads explicitly so the affinity is not set.\n",
      "2023-07-31 01:02:28.478816453 [E:onnxruntime:Default, env.cc:251 ThreadMain] pthread_setaffinity_np failed for thread: 52503, index: 45, mask: {46, }, error code: 22 error msg: Invalid argument. Specify the number of threads explicitly so the affinity is not set.\n",
      "2023-07-31 01:02:28.478848194 [E:onnxruntime:Default, env.cc:251 ThreadMain] pthread_setaffinity_np failed for thread: 52495, index: 37, mask: {38, }, error code: 22 error msg: Invalid argument. Specify the number of threads explicitly so the affinity is not set.\n",
      "2023-07-31 01:02:28.479037963 [E:onnxruntime:Default, env.cc:251 ThreadMain] pthread_setaffinity_np failed for thread: 52519, index: 61, mask: {62, }, error code: 22 error msg: Invalid argument. Specify the number of threads explicitly so the affinity is not set.\n",
      "2023-07-31 01:02:28.479457031 [E:onnxruntime:Default, env.cc:251 ThreadMain] pthread_setaffinity_np failed for thread: 52504, index: 46, mask: {47, }, error code: 22 error msg: Invalid argument. Specify the number of threads explicitly so the affinity is not set.\n",
      "2023-07-31 01:02:28.479516474 [E:onnxruntime:Default, env.cc:251 ThreadMain] pthread_setaffinity_np failed for thread: 52493, index: 35, mask: {36, }, error code: 22 error msg: Invalid argument. Specify the number of threads explicitly so the affinity is not set.\n",
      "2023-07-31 01:02:28.486852791 [E:onnxruntime:Default, env.cc:251 ThreadMain] pthread_setaffinity_np failed for thread: 52496, index: 38, mask: {39, }, error code: 22 error msg: Invalid argument. Specify the number of threads explicitly so the affinity is not set.\n",
      "2023-07-31 01:02:28.488136238 [E:onnxruntime:Default, env.cc:251 ThreadMain] pthread_setaffinity_np failed for thread: 52502, index: 44, mask: {45, }, error code: 22 error msg: Invalid argument. Specify the number of threads explicitly so the affinity is not set.\n"
     ]
    }
   ],
   "source": [
    "quantized_model = deepcrunch.quantize(model_fp32)"
   ]
  },
  {
   "cell_type": "code",
   "execution_count": 12,
   "metadata": {},
   "outputs": [
    {
     "name": "stderr",
     "output_type": "stream",
     "text": [
      "/storage/home/hcoda1/1/dsynn6/projects/deepcrunch/env/lib/python3.10/site-packages/onnxconverter_common/float16.py:43: UserWarning: the float32 number 9.560551461618161e-08 will be truncated to 1e-07\n",
      "  warnings.warn(\"the float32 number {} will be truncated to {}\".format(pos_min, min_positive_val))\n",
      "/storage/home/hcoda1/1/dsynn6/projects/deepcrunch/env/lib/python3.10/site-packages/onnxconverter_common/float16.py:53: UserWarning: the float32 number -8.309491761337995e-08 will be truncated to -1e-07\n",
      "  warnings.warn(\"the float32 number {} will be truncated to {}\".format(neg_max, -min_positive_val))\n",
      "/storage/home/hcoda1/1/dsynn6/projects/deepcrunch/env/lib/python3.10/site-packages/onnxconverter_common/float16.py:53: UserWarning: the float32 number -9.489281893593216e-08 will be truncated to -1e-07\n",
      "  warnings.warn(\"the float32 number {} will be truncated to {}\".format(neg_max, -min_positive_val))\n",
      "/storage/home/hcoda1/1/dsynn6/projects/deepcrunch/env/lib/python3.10/site-packages/onnxconverter_common/float16.py:53: UserWarning: the float32 number -4.2761456597872893e-08 will be truncated to -1e-07\n",
      "  warnings.warn(\"the float32 number {} will be truncated to {}\".format(neg_max, -min_positive_val))\n",
      "/storage/home/hcoda1/1/dsynn6/projects/deepcrunch/env/lib/python3.10/site-packages/onnxconverter_common/float16.py:43: UserWarning: the float32 number 3.654321290014195e-08 will be truncated to 1e-07\n",
      "  warnings.warn(\"the float32 number {} will be truncated to {}\".format(pos_min, min_positive_val))\n",
      "/storage/home/hcoda1/1/dsynn6/projects/deepcrunch/env/lib/python3.10/site-packages/onnxconverter_common/float16.py:53: UserWarning: the float32 number -2.035393720234424e-08 will be truncated to -1e-07\n",
      "  warnings.warn(\"the float32 number {} will be truncated to {}\".format(neg_max, -min_positive_val))\n",
      "/storage/home/hcoda1/1/dsynn6/projects/deepcrunch/env/lib/python3.10/site-packages/onnxconverter_common/float16.py:43: UserWarning: the float32 number 1.2418297501426423e-09 will be truncated to 1e-07\n",
      "  warnings.warn(\"the float32 number {} will be truncated to {}\".format(pos_min, min_positive_val))\n",
      "/storage/home/hcoda1/1/dsynn6/projects/deepcrunch/env/lib/python3.10/site-packages/onnxconverter_common/float16.py:53: UserWarning: the float32 number -2.1546142647821398e-10 will be truncated to -1e-07\n",
      "  warnings.warn(\"the float32 number {} will be truncated to {}\".format(neg_max, -min_positive_val))\n",
      "/storage/home/hcoda1/1/dsynn6/projects/deepcrunch/env/lib/python3.10/site-packages/onnxconverter_common/float16.py:43: UserWarning: the float32 number 7.163997395309707e-09 will be truncated to 1e-07\n",
      "  warnings.warn(\"the float32 number {} will be truncated to {}\".format(pos_min, min_positive_val))\n",
      "/storage/home/hcoda1/1/dsynn6/projects/deepcrunch/env/lib/python3.10/site-packages/onnxconverter_common/float16.py:53: UserWarning: the float32 number -7.51688844502496e-09 will be truncated to -1e-07\n",
      "  warnings.warn(\"the float32 number {} will be truncated to {}\".format(neg_max, -min_positive_val))\n",
      "/storage/home/hcoda1/1/dsynn6/projects/deepcrunch/env/lib/python3.10/site-packages/onnxconverter_common/float16.py:43: UserWarning: the float32 number 3.1595561722497223e-09 will be truncated to 1e-07\n",
      "  warnings.warn(\"the float32 number {} will be truncated to {}\".format(pos_min, min_positive_val))\n",
      "/storage/home/hcoda1/1/dsynn6/projects/deepcrunch/env/lib/python3.10/site-packages/onnxconverter_common/float16.py:53: UserWarning: the float32 number -2.7903183763555717e-08 will be truncated to -1e-07\n",
      "  warnings.warn(\"the float32 number {} will be truncated to {}\".format(neg_max, -min_positive_val))\n",
      "/storage/home/hcoda1/1/dsynn6/projects/deepcrunch/env/lib/python3.10/site-packages/onnxconverter_common/float16.py:43: UserWarning: the float32 number 1.061150101122621e-08 will be truncated to 1e-07\n",
      "  warnings.warn(\"the float32 number {} will be truncated to {}\".format(pos_min, min_positive_val))\n",
      "/storage/home/hcoda1/1/dsynn6/projects/deepcrunch/env/lib/python3.10/site-packages/onnxconverter_common/float16.py:53: UserWarning: the float32 number -3.792102631905436e-08 will be truncated to -1e-07\n",
      "  warnings.warn(\"the float32 number {} will be truncated to {}\".format(neg_max, -min_positive_val))\n",
      "/storage/home/hcoda1/1/dsynn6/projects/deepcrunch/env/lib/python3.10/site-packages/onnxconverter_common/float16.py:43: UserWarning: the float32 number 1.0361176805417927e-08 will be truncated to 1e-07\n",
      "  warnings.warn(\"the float32 number {} will be truncated to {}\".format(pos_min, min_positive_val))\n",
      "/storage/home/hcoda1/1/dsynn6/projects/deepcrunch/env/lib/python3.10/site-packages/onnxconverter_common/float16.py:53: UserWarning: the float32 number -2.571613322288613e-08 will be truncated to -1e-07\n",
      "  warnings.warn(\"the float32 number {} will be truncated to {}\".format(neg_max, -min_positive_val))\n",
      "/storage/home/hcoda1/1/dsynn6/projects/deepcrunch/env/lib/python3.10/site-packages/onnxconverter_common/float16.py:43: UserWarning: the float32 number 2.297113610438828e-10 will be truncated to 1e-07\n",
      "  warnings.warn(\"the float32 number {} will be truncated to {}\".format(pos_min, min_positive_val))\n",
      "/storage/home/hcoda1/1/dsynn6/projects/deepcrunch/env/lib/python3.10/site-packages/onnxconverter_common/float16.py:53: UserWarning: the float32 number -8.526512829121202e-11 will be truncated to -1e-07\n",
      "  warnings.warn(\"the float32 number {} will be truncated to {}\".format(neg_max, -min_positive_val))\n",
      "/storage/home/hcoda1/1/dsynn6/projects/deepcrunch/env/lib/python3.10/site-packages/onnxconverter_common/float16.py:43: UserWarning: the float32 number 7.023679415851802e-10 will be truncated to 1e-07\n",
      "  warnings.warn(\"the float32 number {} will be truncated to {}\".format(pos_min, min_positive_val))\n",
      "/storage/home/hcoda1/1/dsynn6/projects/deepcrunch/env/lib/python3.10/site-packages/onnxconverter_common/float16.py:53: UserWarning: the float32 number -3.512923285597935e-11 will be truncated to -1e-07\n",
      "  warnings.warn(\"the float32 number {} will be truncated to {}\".format(neg_max, -min_positive_val))\n",
      "/storage/home/hcoda1/1/dsynn6/projects/deepcrunch/env/lib/python3.10/site-packages/onnxconverter_common/float16.py:43: UserWarning: the float32 number 2.4362147854617433e-09 will be truncated to 1e-07\n",
      "  warnings.warn(\"the float32 number {} will be truncated to {}\".format(pos_min, min_positive_val))\n",
      "/storage/home/hcoda1/1/dsynn6/projects/deepcrunch/env/lib/python3.10/site-packages/onnxconverter_common/float16.py:53: UserWarning: the float32 number -1.6373746802855749e-10 will be truncated to -1e-07\n",
      "  warnings.warn(\"the float32 number {} will be truncated to {}\".format(neg_max, -min_positive_val))\n"
     ]
    }
   ],
   "source": [
    "# float16 quantization\n",
    "\n",
    "float16_model = deepcrunch.quantize(model_fp32, type=\"float16\")"
   ]
  },
  {
   "cell_type": "code",
   "execution_count": 5,
   "metadata": {},
   "outputs": [
    {
     "name": "stdout",
     "output_type": "stream",
     "text": [
      "Quantized model saved to vgg16_quantized.onnx\n"
     ]
    }
   ],
   "source": [
    "deepcrunch.save(quantized_model, output_path=\"vgg16_quantized.onnx\")\n",
    "deepcrunch.save(float16_model, output_path=\"vgg16_float16.onnx\")"
   ]
  },
  {
   "cell_type": "code",
   "execution_count": 6,
   "metadata": {},
   "outputs": [
    {
     "name": "stdout",
     "output_type": "stream",
     "text": [
      "Original model size: 527.80 MB\n",
      "Quantized model size: 132.01 MB\n"
     ]
    }
   ],
   "source": [
    "original_model_size = deepcrunch.performance.size_in_mb(\n",
    "    \"./vgg16-12.onnx\", human_readable=True\n",
    ")\n",
    "\n",
    "quantized_model_size = deepcrunch.performance.size_in_mb(\n",
    "    \"./vgg16_quantized.onnx\", human_readable=True\n",
    ")\n",
    "\n",
    "print(f\"Original model size: {original_model_size}\")\n",
    "print(f\"Quantized model size: {quantized_model_size}\")"
   ]
  },
  {
   "cell_type": "code",
   "execution_count": 14,
   "metadata": {},
   "outputs": [
    {
     "name": "stdout",
     "output_type": "stream",
     "text": [
      "Float16 model size: 335.59 MB\n"
     ]
    }
   ],
   "source": [
    "quantized_model_size = deepcrunch.performance.size_in_mb(\n",
    "    \"./vgg16_float16.onnx\", human_readable=True\n",
    ")\n",
    "\n",
    "print(f\"Float16 model size: {quantized_model_size}\")"
   ]
  }
 ],
 "metadata": {
  "kernelspec": {
   "display_name": "Python 3",
   "language": "python",
   "name": "python3"
  },
  "language_info": {
   "codemirror_mode": {
    "name": "ipython",
    "version": 3
   },
   "file_extension": ".py",
   "mimetype": "text/x-python",
   "name": "python",
   "nbconvert_exporter": "python",
   "pygments_lexer": "ipython3",
   "version": "3.10.12"
  },
  "orig_nbformat": 4
 },
 "nbformat": 4,
 "nbformat_minor": 2
}
