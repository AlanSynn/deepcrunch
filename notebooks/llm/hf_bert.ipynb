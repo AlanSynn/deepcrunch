{
 "cells": [
  {
   "cell_type": "code",
   "execution_count": 4,
   "metadata": {},
   "outputs": [],
   "source": [
    "# %load ../firstcell.py\n",
    "%load_ext autoreload\n",
    "%autoreload 2\n",
    "%matplotlib inline"
   ]
  },
  {
   "cell_type": "code",
   "execution_count": null,
   "metadata": {},
   "outputs": [],
   "source": [
    "import torch\n",
    "from lightning.pytorch import LightningModule\n",
    "from transformers import AutoConfig, AutoModelForSequenceClassification, AutoTokenizer\n",
    "\n",
    "\n",
    "# BERT Model definition\n",
    "class GLUETransformer(LightningModule):\n",
    "    def __init__(self):\n",
    "        self.config = AutoConfig.from_pretrained(\n",
    "            model_name_or_path, num_labels=num_labels\n",
    "        )\n",
    "        self.model = AutoModelForSequenceClassification.from_pretrained(\n",
    "            model_name_or_path, config=self.config\n",
    "        )\n",
    "\n",
    "    def forward(self, **inputs):\n",
    "        return self.model(**inputs)\n",
    "\n",
    "\n",
    "model = GLUETransformer(model_name_or_path=\"Intel/bert-base-uncased-mrpc\")"
   ]
  },
  {
   "cell_type": "code",
   "execution_count": null,
   "metadata": {},
   "outputs": [],
   "source": [
    "from neural_compressor.config import (\n",
    "    PostTrainingQuantConfig,\n",
    "    TuningCriterion,\n",
    "    AccuracyCriterion,\n",
    ")\n",
    "\n",
    "accuracy_criterion = AccuracyCriterion(tolerable_loss=0.01)\n",
    "tuning_criterion = TuningCriterion(max_trials=600)\n",
    "conf = PostTrainingQuantConfig(\n",
    "    approach=\"static\",\n",
    "    backend=\"default\",\n",
    "    tuning_criterion=tuning_criterion,\n",
    "    accuracy_criterion=accuracy_criterion,\n",
    ")"
   ]
  },
  {
   "cell_type": "code",
   "execution_count": null,
   "metadata": {},
   "outputs": [],
   "source": [
    "from neural_compressor.quantization import fit\n",
    "\n",
    "q_model = fit(\n",
    "    model=model.model, conf=conf, calib_dataloader=val_dataloader(), eval_func=eval_func\n",
    ")"
   ]
  },
  {
   "cell_type": "code",
   "execution_count": null,
   "metadata": {},
   "outputs": [],
   "source": [
    "q_model.save(\"./saved_model/\")"
   ]
  }
 ],
 "metadata": {
  "kernelspec": {
   "display_name": "Python 3",
   "language": "python",
   "name": "python3"
  },
  "language_info": {
   "codemirror_mode": {
    "name": "ipython",
    "version": 3
   },
   "file_extension": ".py",
   "mimetype": "text/x-python",
   "name": "python",
   "nbconvert_exporter": "python",
   "pygments_lexer": "ipython3",
   "version": "3.10.12"
  },
  "orig_nbformat": 4
 },
 "nbformat": 4,
 "nbformat_minor": 2
}
