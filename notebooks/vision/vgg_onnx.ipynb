{
 "cells": [
  {
   "cell_type": "code",
   "execution_count": 1,
   "metadata": {},
   "outputs": [],
   "source": [
    "# %load ../firstcell.py\n",
    "%load_ext autoreload\n",
    "%autoreload 2\n",
    "%matplotlib inline"
   ]
  },
  {
   "cell_type": "code",
   "execution_count": 2,
   "metadata": {},
   "outputs": [],
   "source": [
    "model_fp32 = './vgg16-12.onnx'"
   ]
  },
  {
   "cell_type": "code",
   "execution_count": 3,
   "metadata": {},
   "outputs": [],
   "source": [
    "import deepcrunch\n",
    "deepcrunch.config(framework=\"onnx\", mode=\"inference\", backend=\"onnx\")"
   ]
  },
  {
   "cell_type": "code",
   "execution_count": 7,
   "metadata": {},
   "outputs": [],
   "source": [
    "quantized_model = deepcrunch.quantize(model_fp32)"
   ]
  },
  {
   "cell_type": "code",
   "execution_count": 5,
   "metadata": {},
   "outputs": [
    {
     "name": "stdout",
     "output_type": "stream",
     "text": [
      "Quantized model saved to vgg16_quantized.onnx\n"
     ]
    }
   ],
   "source": [
    "deepcrunch.save(quantized_model, output_path=\"vgg16_quantized.onnx\")"
   ]
  },
  {
   "cell_type": "code",
   "execution_count": 6,
   "metadata": {},
   "outputs": [
    {
     "name": "stdout",
     "output_type": "stream",
     "text": [
      "Original model size: 527.80 MB\n",
      "Quantized model size: 132.01 MB\n"
     ]
    }
   ],
   "source": [
    "original_model_size = deepcrunch.performance.size_in_mb(\"./vgg16-12.onnx\", human_readable=True)\n",
    "\n",
    "quantized_model_size = deepcrunch.performance.size_in_mb(\"./vgg16_quantized.onnx\", human_readable=True)\n",
    "\n",
    "print(f\"Original model size: {original_model_size}\")\n",
    "print(f\"Quantized model size: {quantized_model_size}\")"
   ]
  }
 ],
 "metadata": {
  "kernelspec": {
   "display_name": "Python 3",
   "language": "python",
   "name": "python3"
  },
  "language_info": {
   "codemirror_mode": {
    "name": "ipython",
    "version": 3
   },
   "file_extension": ".py",
   "mimetype": "text/x-python",
   "name": "python",
   "nbconvert_exporter": "python",
   "pygments_lexer": "ipython3",
   "version": "3.10.12"
  },
  "orig_nbformat": 4
 },
 "nbformat": 4,
 "nbformat_minor": 2
}
