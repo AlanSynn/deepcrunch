{
 "cells": [
  {
   "cell_type": "code",
   "execution_count": 1,
   "metadata": {},
   "outputs": [],
   "source": [
    "# %load ../firstcell.py\n",
    "%load_ext autoreload\n",
    "%autoreload 2\n",
    "%matplotlib inline"
   ]
  },
  {
   "cell_type": "markdown",
   "metadata": {},
   "source": [
    "Install Dependencies\n",
    "\n",
    "```bash\n",
    "pip install sentencepiece!=0.1.92 protobuf evaluate datasets transformers accelerate scikit-learn numpy\n",
    "```"
   ]
  },
  {
   "cell_type": "markdown",
   "metadata": {},
   "source": [
    "```bash\n",
    "python notebooks/api/run_clm.py \\\n",
    "  --model_name_or_path abeja/gpt-neox-japanese-2.7b \\\n",
    "  --dataset_name oscar\\\n",
    "  --dataset_config_name unshuffled_original_ast \\\n",
    "  --do_train \\\n",
    "  --do_eval \\\n",
    "  --tune \\\n",
    "  --output_dir saved_results\n",
    "```\n",
    "\n",
    "PTQ example with intel neural-compressor"
   ]
  },
  {
   "cell_type": "code",
   "execution_count": null,
   "metadata": {},
   "outputs": [],
   "source": [
    "from torchvision.models import resnet50\n",
    "\n",
    "# Load a pre-trained model\n",
    "model = resnet50(pretrained=True)\n",
    "\n",
    "# Create the wrapper\n",
    "quantized_model = PostTrainingQuantizationWrapper(model, \"config.yaml\")\n",
    "\n",
    "# Quantize the model and save it\n",
    "quantized_model.quantize(\"quantized_model\")"
   ]
  }
 ],
 "metadata": {
  "kernelspec": {
   "display_name": "Python 3",
   "language": "python",
   "name": "python3"
  },
  "language_info": {
   "codemirror_mode": {
    "name": "ipython",
    "version": 3
   },
   "file_extension": ".py",
   "mimetype": "text/x-python",
   "name": "python",
   "nbconvert_exporter": "python",
   "pygments_lexer": "ipython3",
   "version": "3.10.12"
  },
  "orig_nbformat": 4
 },
 "nbformat": 4,
 "nbformat_minor": 2
}
